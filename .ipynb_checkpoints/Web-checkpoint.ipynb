{
 "cells": [
  {
   "cell_type": "markdown",
   "id": "f87df00a-fba8-4133-8643-86a6aa9700c9",
   "metadata": {},
   "source": [
    "# HTML\n",
    "\n",
    "# CSS\n",
    "\n",
    "# Bootstrap"
   ]
  }
 ],
 "metadata": {
  "kernelspec": {
   "display_name": "Python 3 (ipykernel)",
   "language": "python",
   "name": "python3"
  },
  "language_info": {
   "codemirror_mode": {
    "name": "ipython",
    "version": 3
   },
   "file_extension": ".py",
   "mimetype": "text/x-python",
   "name": "python",
   "nbconvert_exporter": "python",
   "pygments_lexer": "ipython3",
   "version": "3.11.6"
  }
 },
 "nbformat": 4,
 "nbformat_minor": 5
}
